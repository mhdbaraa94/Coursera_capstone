{
 "cells": [
  {
   "cell_type": "markdown",
   "metadata": {},
   "source": [
    "# Capstone Project - The Battle of Neighborhoods (Week 1)"
   ]
  },
  {
   "cell_type": "markdown",
   "metadata": {},
   "source": [
    "# 1- introduction/business problem"
   ]
  },
  {
   "cell_type": "markdown",
   "metadata": {},
   "source": [
    "the idea of this study is to help people planning to open a new restaurant in New York City to chose the right location by providing data about the income and population of each neighborhood as well as the competitors already present on the same r regions."
   ]
  },
  {
   "cell_type": "markdown",
   "metadata": {},
   "source": [
    "# 2- Data"
   ]
  },
  {
   "cell_type": "markdown",
   "metadata": {},
   "source": [
    "provide the stakeholders the necessary information I'll be combining New York City Average income per Neighborhood with Foursquare API to collect competitors on the same neighborhoods"
   ]
  },
  {
   "cell_type": "code",
   "execution_count": 1,
   "metadata": {},
   "outputs": [
    {
     "name": "stdout",
     "output_type": "stream",
     "text": [
      "Libraries imported.\n"
     ]
    }
   ],
   "source": [
    "import numpy as np \n",
    "import pandas as pd \n",
    "\n",
    "print('Libraries imported.')"
   ]
  },
  {
   "cell_type": "code",
   "execution_count": 2,
   "metadata": {},
   "outputs": [
    {
     "name": "stdout",
     "output_type": "stream",
     "text": [
      "Data loaded\n"
     ]
    }
   ],
   "source": [
    "csv_path='https://www.toronto.ca/ext/open_data/catalog/data_set_files/2016_neighbourhood_profiles.csv'\n",
    "df = pd.read_csv(csv_path,encoding='latin1')\n",
    "print('Data loaded')"
   ]
  },
  {
   "cell_type": "code",
   "execution_count": 3,
   "metadata": {},
   "outputs": [
    {
     "data": {
      "text/html": [
       "<div>\n",
       "<style scoped>\n",
       "    .dataframe tbody tr th:only-of-type {\n",
       "        vertical-align: middle;\n",
       "    }\n",
       "\n",
       "    .dataframe tbody tr th {\n",
       "        vertical-align: top;\n",
       "    }\n",
       "\n",
       "    .dataframe thead th {\n",
       "        text-align: right;\n",
       "    }\n",
       "</style>\n",
       "<table border=\"1\" class=\"dataframe\">\n",
       "  <thead>\n",
       "    <tr style=\"text-align: right;\">\n",
       "      <th></th>\n",
       "      <th>Category</th>\n",
       "      <th>Topic</th>\n",
       "      <th>Data Source</th>\n",
       "      <th>Characteristic</th>\n",
       "      <th>City of Toronto</th>\n",
       "      <th>Agincourt North</th>\n",
       "      <th>Agincourt South-Malvern West</th>\n",
       "      <th>Alderwood</th>\n",
       "      <th>Annex</th>\n",
       "      <th>Banbury-Don Mills</th>\n",
       "      <th>...</th>\n",
       "      <th>Willowdale West</th>\n",
       "      <th>Willowridge-Martingrove-Richview</th>\n",
       "      <th>Woburn</th>\n",
       "      <th>Woodbine Corridor</th>\n",
       "      <th>Woodbine-Lumsden</th>\n",
       "      <th>Wychwood</th>\n",
       "      <th>Yonge-Eglinton</th>\n",
       "      <th>Yonge-St.Clair</th>\n",
       "      <th>York University Heights</th>\n",
       "      <th>Yorkdale-Glen Park</th>\n",
       "    </tr>\n",
       "  </thead>\n",
       "  <tbody>\n",
       "    <tr>\n",
       "      <th>0</th>\n",
       "      <td>Neighbourhood Information</td>\n",
       "      <td>Neighbourhood Information</td>\n",
       "      <td>City of Toronto</td>\n",
       "      <td>Neighbourhood Number</td>\n",
       "      <td>NaN</td>\n",
       "      <td>129</td>\n",
       "      <td>128</td>\n",
       "      <td>20</td>\n",
       "      <td>95</td>\n",
       "      <td>42</td>\n",
       "      <td>...</td>\n",
       "      <td>37</td>\n",
       "      <td>7</td>\n",
       "      <td>137</td>\n",
       "      <td>64</td>\n",
       "      <td>60</td>\n",
       "      <td>94</td>\n",
       "      <td>100</td>\n",
       "      <td>97</td>\n",
       "      <td>27</td>\n",
       "      <td>31</td>\n",
       "    </tr>\n",
       "    <tr>\n",
       "      <th>1</th>\n",
       "      <td>Neighbourhood Information</td>\n",
       "      <td>Neighbourhood Information</td>\n",
       "      <td>City of Toronto</td>\n",
       "      <td>TSNS2020 Designation</td>\n",
       "      <td>NaN</td>\n",
       "      <td>No Designation</td>\n",
       "      <td>No Designation</td>\n",
       "      <td>No Designation</td>\n",
       "      <td>No Designation</td>\n",
       "      <td>No Designation</td>\n",
       "      <td>...</td>\n",
       "      <td>No Designation</td>\n",
       "      <td>No Designation</td>\n",
       "      <td>NIA</td>\n",
       "      <td>No Designation</td>\n",
       "      <td>No Designation</td>\n",
       "      <td>No Designation</td>\n",
       "      <td>No Designation</td>\n",
       "      <td>No Designation</td>\n",
       "      <td>NIA</td>\n",
       "      <td>Emerging Neighbourhood</td>\n",
       "    </tr>\n",
       "    <tr>\n",
       "      <th>2</th>\n",
       "      <td>Population</td>\n",
       "      <td>Population and dwellings</td>\n",
       "      <td>Census Profile 98-316-X2016001</td>\n",
       "      <td>Population, 2016</td>\n",
       "      <td>2,731,571</td>\n",
       "      <td>29,113</td>\n",
       "      <td>23,757</td>\n",
       "      <td>12,054</td>\n",
       "      <td>30,526</td>\n",
       "      <td>27,695</td>\n",
       "      <td>...</td>\n",
       "      <td>16,936</td>\n",
       "      <td>22,156</td>\n",
       "      <td>53,485</td>\n",
       "      <td>12,541</td>\n",
       "      <td>7,865</td>\n",
       "      <td>14,349</td>\n",
       "      <td>11,817</td>\n",
       "      <td>12,528</td>\n",
       "      <td>27,593</td>\n",
       "      <td>14,804</td>\n",
       "    </tr>\n",
       "    <tr>\n",
       "      <th>3</th>\n",
       "      <td>Population</td>\n",
       "      <td>Population and dwellings</td>\n",
       "      <td>Census Profile 98-316-X2016001</td>\n",
       "      <td>Population, 2011</td>\n",
       "      <td>2,615,060</td>\n",
       "      <td>30,279</td>\n",
       "      <td>21,988</td>\n",
       "      <td>11,904</td>\n",
       "      <td>29,177</td>\n",
       "      <td>26,918</td>\n",
       "      <td>...</td>\n",
       "      <td>15,004</td>\n",
       "      <td>21,343</td>\n",
       "      <td>53,350</td>\n",
       "      <td>11,703</td>\n",
       "      <td>7,826</td>\n",
       "      <td>13,986</td>\n",
       "      <td>10,578</td>\n",
       "      <td>11,652</td>\n",
       "      <td>27,713</td>\n",
       "      <td>14,687</td>\n",
       "    </tr>\n",
       "    <tr>\n",
       "      <th>4</th>\n",
       "      <td>Population</td>\n",
       "      <td>Population and dwellings</td>\n",
       "      <td>Census Profile 98-316-X2016001</td>\n",
       "      <td>Population Change 2011-2016</td>\n",
       "      <td>4.50%</td>\n",
       "      <td>-3.90%</td>\n",
       "      <td>8.00%</td>\n",
       "      <td>1.30%</td>\n",
       "      <td>4.60%</td>\n",
       "      <td>2.90%</td>\n",
       "      <td>...</td>\n",
       "      <td>12.90%</td>\n",
       "      <td>3.80%</td>\n",
       "      <td>0.30%</td>\n",
       "      <td>7.20%</td>\n",
       "      <td>0.50%</td>\n",
       "      <td>2.60%</td>\n",
       "      <td>11.70%</td>\n",
       "      <td>7.50%</td>\n",
       "      <td>-0.40%</td>\n",
       "      <td>0.80%</td>\n",
       "    </tr>\n",
       "  </tbody>\n",
       "</table>\n",
       "<p>5 rows × 145 columns</p>\n",
       "</div>"
      ],
      "text/plain": [
       "                    Category                      Topic  \\\n",
       "0  Neighbourhood Information  Neighbourhood Information   \n",
       "1  Neighbourhood Information  Neighbourhood Information   \n",
       "2                 Population   Population and dwellings   \n",
       "3                 Population   Population and dwellings   \n",
       "4                 Population   Population and dwellings   \n",
       "\n",
       "                      Data Source               Characteristic  \\\n",
       "0                 City of Toronto         Neighbourhood Number   \n",
       "1                 City of Toronto         TSNS2020 Designation   \n",
       "2  Census Profile 98-316-X2016001             Population, 2016   \n",
       "3  Census Profile 98-316-X2016001             Population, 2011   \n",
       "4  Census Profile 98-316-X2016001  Population Change 2011-2016   \n",
       "\n",
       "  City of Toronto Agincourt North Agincourt South-Malvern West  \\\n",
       "0             NaN             129                          128   \n",
       "1             NaN  No Designation               No Designation   \n",
       "2       2,731,571          29,113                       23,757   \n",
       "3       2,615,060          30,279                       21,988   \n",
       "4           4.50%          -3.90%                        8.00%   \n",
       "\n",
       "        Alderwood           Annex Banbury-Don Mills  ... Willowdale West  \\\n",
       "0              20              95                42  ...              37   \n",
       "1  No Designation  No Designation    No Designation  ...  No Designation   \n",
       "2          12,054          30,526            27,695  ...          16,936   \n",
       "3          11,904          29,177            26,918  ...          15,004   \n",
       "4           1.30%           4.60%             2.90%  ...          12.90%   \n",
       "\n",
       "  Willowridge-Martingrove-Richview  Woburn Woodbine Corridor Woodbine-Lumsden  \\\n",
       "0                                7     137                64               60   \n",
       "1                   No Designation     NIA    No Designation   No Designation   \n",
       "2                           22,156  53,485            12,541            7,865   \n",
       "3                           21,343  53,350            11,703            7,826   \n",
       "4                            3.80%   0.30%             7.20%            0.50%   \n",
       "\n",
       "         Wychwood  Yonge-Eglinton  Yonge-St.Clair York University Heights  \\\n",
       "0              94             100              97                      27   \n",
       "1  No Designation  No Designation  No Designation                     NIA   \n",
       "2          14,349          11,817          12,528                  27,593   \n",
       "3          13,986          10,578          11,652                  27,713   \n",
       "4           2.60%          11.70%           7.50%                  -0.40%   \n",
       "\n",
       "       Yorkdale-Glen Park  \n",
       "0                      31  \n",
       "1  Emerging Neighbourhood  \n",
       "2                  14,804  \n",
       "3                  14,687  \n",
       "4                   0.80%  \n",
       "\n",
       "[5 rows x 145 columns]"
      ]
     },
     "execution_count": 3,
     "metadata": {},
     "output_type": "execute_result"
    }
   ],
   "source": [
    "df.head()"
   ]
  },
  {
   "cell_type": "code",
   "execution_count": null,
   "metadata": {},
   "outputs": [],
   "source": []
  }
 ],
 "metadata": {
  "kernelspec": {
   "display_name": "Python 3",
   "language": "python",
   "name": "python3"
  },
  "language_info": {
   "codemirror_mode": {
    "name": "ipython",
    "version": 3
   },
   "file_extension": ".py",
   "mimetype": "text/x-python",
   "name": "python",
   "nbconvert_exporter": "python",
   "pygments_lexer": "ipython3",
   "version": "3.7.3"
  }
 },
 "nbformat": 4,
 "nbformat_minor": 2
}
